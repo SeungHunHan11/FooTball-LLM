{
 "cells": [
  {
   "cell_type": "code",
   "execution_count": 1,
   "metadata": {},
   "outputs": [],
   "source": [
    "import deepl\n",
    "auth_key = \"fa8587e6-253a-b908-c3ee-e3bebda5c115:fx\"\n",
    "translator = deepl.Translator(auth_key"
   ]
  },
  {
   "cell_type": "code",
   "execution_count": 2,
   "metadata": {},
   "outputs": [],
   "source": [
    "from glob import glob\n",
    "import json\n",
    "import os\n",
    "\n",
    "def load_json_data(data_dir):\n",
    "    \"\"\"\n",
    "    Load multiple JSON files from the folder and merge.\n",
    "    \"\"\"\n",
    "\n",
    "    files = glob(data_dir+\"/*.json\")\n",
    "    files.sort()\n",
    "    all_data = []\n",
    "    for file_path in files:\n",
    "        #print(\"Loading: \",file)\n",
    "        #file_path = os.path.join(data_dir, file)\n",
    "        with open(file_path, \"r\", encoding = \"utf-8-sig\") as f:\n",
    "            doc = json.load(f)\n",
    "        all_data.append(doc)\n",
    "        #all_data += doc\n",
    "    return all_data\n",
    "\n",
    "\n",
    "docs = load_json_data('/Project/json_data')\n",
    "\n",
    "document = []\n",
    "for x in docs:\n",
    "    \n",
    "    try:\n",
    "        document.append('제목: '+x[\"title\"]+' 본문: '+x[\"contents\"])\n",
    "    except:\n",
    "        pass\n",
    "        #document.append('제목: '+x[\"title\"]+' 본문: '+x[\"content\"])\n"
   ]
  },
  {
   "cell_type": "code",
   "execution_count": 5,
   "metadata": {},
   "outputs": [],
   "source": [
    "result = translator.translate_text(document[0], target_lang=\"EN-US\")\n"
   ]
  },
  {
   "cell_type": "code",
   "execution_count": 9,
   "metadata": {},
   "outputs": [
    {
     "data": {
      "text/plain": [
       "27192"
      ]
     },
     "execution_count": 9,
     "metadata": {},
     "output_type": "execute_result"
    }
   ],
   "source": [
    "len(document)"
   ]
  },
  {
   "cell_type": "code",
   "execution_count": null,
   "metadata": {},
   "outputs": [],
   "source": []
  }
 ],
 "metadata": {
  "kernelspec": {
   "display_name": "base",
   "language": "python",
   "name": "python3"
  },
  "language_info": {
   "codemirror_mode": {
    "name": "ipython",
    "version": 3
   },
   "file_extension": ".py",
   "mimetype": "text/x-python",
   "name": "python",
   "nbconvert_exporter": "python",
   "pygments_lexer": "ipython3",
   "version": "3.8.12"
  },
  "orig_nbformat": 4
 },
 "nbformat": 4,
 "nbformat_minor": 2
}
