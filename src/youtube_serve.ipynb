{
 "cells": [
  {
   "cell_type": "code",
   "execution_count": 1,
   "metadata": {},
   "outputs": [],
   "source": [
    "import os\n",
    "import json\n",
    "import argparse\n",
    "import yaml\n",
    "import warnings\n",
    "\n",
    "from utils import load_model, generate_answer, Retrieve_documents\n",
    "from retriever import Index_Builder\n",
    "\n",
    "from transformers import AutoTokenizer\n",
    "import pandas as pd\n",
    "\n",
    "from secret import api_key\n",
    "import guidance\n",
    "warnings.filterwarnings(action='ignore')\n",
    "\n",
    "from prompts import refine_query_prompt, confidence_prompt, default_prompt, strategy_ext_prompt, answer_prompt\n"
   ]
  },
  {
   "cell_type": "code",
   "execution_count": 2,
   "metadata": {},
   "outputs": [],
   "source": [
    "def main(args, verbose_document: bool = False, verbose_strategy: bool = False):\n",
    "    \n",
    "    refined_query = query = args['query']   \n",
    "    \n",
    "    # structure_program = guidance(refine_query_prompt, query = query)\n",
    "    # res_refine = generate_answer(args['model_name'], api_key, refine_query_prompt, query = query)\n",
    "    \n",
    "    # refined_query = res_refine['refined_query']\n",
    "\n",
    "    sparse_tokenizer = AutoTokenizer.from_pretrained(\"klue/bert-base\")\n",
    "    \n",
    "    raw_reference_list = Retrieve_documents(\n",
    "                            query = query, \n",
    "                            data_dir = args['data_dir'],\n",
    "                            sparse_tokenizer = sparse_tokenizer,\n",
    "                            use_content_type = args['content_type'],\n",
    "                            top_k = args['top_k'], \n",
    "                            check_point_dir = args['check_point_dir'],\n",
    "                            index_save_dir = args['index_save_dir'],\n",
    "                            retrieve_mode = args['retrieve_mode'] #'sparse'\n",
    "                            )\n",
    "                     \n",
    "    if verbose_document:       \n",
    "        print(raw_reference_list)                   \n",
    "           \n",
    "    # res_confidence = generate_answer(args['model_name'], api_key, confidence_prompt, query = refined_query, \n",
    "    #                                 passage = [raw_reference_list[0]]) #has to be a list\n",
    "    \n",
    "    # confidence = res_confidence['confidence'].lower()\n",
    "    \n",
    "    confidence = 'yes'\n",
    "    \n",
    "    if confidence == 'no':\n",
    "        res_default = generate_answer(args['model_name'], api_key, default_prompt, query = refined_query)\n",
    "        strategy = 'default'\n",
    "        answer = res_default['answer']\n",
    "        \n",
    "    else:\n",
    "        \n",
    "        try:\n",
    "            res_strategy = generate_answer(args['model_name'], api_key, strategy_ext_prompt, query = refined_query, \n",
    "                                        passages = [raw_reference_list[0]]) # has to be a list\n",
    "            \n",
    "            strategy = res_strategy['strategy']\n",
    "            \n",
    "        except: # Split Passage into two when given passage is too long\n",
    "            \n",
    "            try: \n",
    "                first_half = raw_reference_list[0]['contents'][:int(len(raw_reference_list[0])*0.5)]\n",
    "                last_half = raw_reference_list[0]['contents'][int(len(raw_reference_list[0])*0.5):]\n",
    "            \n",
    "            except:\n",
    "                first_half = raw_reference_list[0]['content'][:int(len(raw_reference_list[0])*0.5)]\n",
    "                last_half = raw_reference_list[0]['content'][int(len(raw_reference_list[0])*0.5):]\n",
    "            \n",
    "            \n",
    "            res_strategy = generate_answer(args['model_name'], api_key, strategy_ext_prompt, query = refined_query, \n",
    "                                passages = [first_half]) # has to be a list\n",
    "            \n",
    "            strategy = res_strategy['strategy']\n",
    "            \n",
    "            # res_strategy_2 = generate_answer(args['model_name'], api_key, strategy_ext_prompt, query = refined_query, \n",
    "            #         passages = [last_half]) # has to be a list\n",
    "            \n",
    "            # strategy_2 = res_strategy_2['strategy']\n",
    "            \n",
    "            # strategy = strategy + '\\n' + strategy_2\n",
    "            \n",
    "        if verbose_strategy:\n",
    "            print(strategy)\n",
    "        \n",
    "        res_answer = generate_answer(args['model_name'], api_key, answer_prompt, query = refined_query,\n",
    "                                     strategy = strategy) # has to be a list\n",
    "\n",
    "        first_answer = res_answer['answer']\n",
    "        #final_answer = res_answer['final_answer']\n",
    "                                \n",
    "        answer = first_answer\n",
    "        \n",
    "    save = {'Question': query, \n",
    "            'Confidence': confidence,\n",
    "            'Strategy': strategy,\n",
    "            'Reference': raw_reference_list,\n",
    "            'Answer': answer}  \n",
    "    \n",
    "    print(save)  \n",
    "        \n",
    "    return answer"
   ]
  },
  {
   "cell_type": "code",
   "execution_count": 3,
   "metadata": {},
   "outputs": [],
   "source": [
    "args = yaml.load(open(\"/Project/src/config/runner_chatgpt.yaml\",'r'), Loader=yaml.FullLoader)"
   ]
  },
  {
   "cell_type": "code",
   "execution_count": 5,
   "metadata": {},
   "outputs": [
    {
     "name": "stderr",
     "output_type": "stream",
     "text": [
      "100%|██████████| 388296/388296 [00:00<00:00, 915780.56it/s]\n"
     ]
    },
    {
     "name": "stdout",
     "output_type": "stream",
     "text": [
      "./index_save_dir/sparse/bm25_index.pickle\n",
      "Loading Saved sparse index\n",
      "Searching Sparse Index...\n",
      "[{'title': '홀란드 몸값 2300억 원…스콜스 \"맨유가 데려올 수 있다\"', 'url': 'https://sports.news.naver.com/news?oid=477&aid=0000293829', 'contents': '\\n▲ 엘링 홀란드.[스포티비뉴스=맹봉주 기자] 아무리 비싸도 영입하려는 팀들은 있다. 이번 여름 이적 시장의 주인공은 엘링 홀란드(21)다. 이적 시장 소문의 대부분이 홀란드와 관련되어 있다. 보루시아 도르트문트는 이미 홀란드를 내놓았다. 책정한 몸값은 1억 5000만 파운드(약 2300억 원). 축구 이적료로는 네이마르가 바르셀로나에서 PSG(파리생제르맹)로 갈 때 기록한 2960억 원 다음으로 높은 금액이다.홀란드의 아버지와 에이전트 미노 라이올라는 진작에 협상 테이블을 차렸다. 바르셀로나, 레알 마드리드, 맨체스터 유나이티드, 맨체스터 시티, 바이에른 뮌헨, 첼시, 유벤투스 등 거론되는 팀들은 한둘이 아니다.맨유의 전설, 폴 스콜스는 이중 홀란드가 갈만한 팀으로 딱 두 곳을 집는다. 8일(한국 시간) 영국 방송 \\'BT 스포츠\\'에 나온 스콜스는 \"맨유가 홀란드를 영입할 수 있을까?\"란 질문을 받자 \"충분히 가능하다고 본다. 그 돈을 내서 홀란드를 데려올 수 있다면, 그렇게 하지 않을 이유가 없다\"며 고개를 끄덕였다.다른 팀들이 홀란드를 데려가기 힘든 이유도 설명했다. \"중요한 건 홀란드 몸값을 감당할 여력이 있는 팀이 어디냐는 것이다. 레알 마드리드와 바르셀로나는 저 정도의 돈을 지불할 능력이 안 된다는 소리가 들린다\"며 \"맨시티는 돈은 있지만, 천문학적인 지출을 하고 싶어 하지 않는다. 무엇보다 홀란드는 펩 과르디올라 맨시티 감독이 선호하는 유형의 선수가 아니다. 과르디올라 감독은 홀란드같은 공격수를 잘 기용하지 않는다. 올 시즌 맨시티는 세르히오 아게로나 가브리엘 제주스를 잘 쓰지 않았다. 과르디올라가 홀란드를 어떻게 기용할지 모르겠다\"고 말했다.이어 스콜스는 맨유 외에 첼시를 홀란드 영입에 근접한 팀으로 언급했다. 현재 이적 시장에서 이 두 팀을 제외하면 2300억 원을 부담하면서 홀란드를 품을 팀이 없다는 것이다.스콜스는 \"현재 홀란드 몸값을 감당할 팀은 딱 두 개인데, 이게 바로 맨유와 첼시\"라고 자신의 생각을 밝혔다.스포티비뉴스=맹봉주 기자제보> mbj@spotvnews.co.kr[영상]\\'이제는 음바페의 시대\\'[댓글] 손흥민... 다음시즌 거취는?<저작권자 ⓒ SPOTV NEWS 무단전재 및 재배포 금지>\\n\\t\\t\\t\\t\\t\\t\\n\\t\\t\\t\\t\\t\\t\\n\\t\\t\\t\\t\\t\\t\\n\\t\\t\\t\\t\\t\\t\\n\\t\\t\\t\\t\\t\\t'}]\n",
      "['1단계: \"맨유의 전설, 폴 스콜스는 이중 홀란드가 갈만한 팀으로 딱 두 곳을 집는다. 8일(한국 시간) 영국 방송 \\'BT 스포츠\\'에 나온 스콜스는 \"맨유가 홀란드를 영입할 수 있을까?\"란 질문을 받자 \"충분히 가능하다고 본다. 그 돈을 내서 홀란드를 데려올 수 있다면, 그렇게 하지 않을 이유가 없다\"며 고개를 끄덕였다.\" 이 부분을 참조하여 맨유가 충분한 자금을 가지고 있음을 확인합니다.\\n\\n2단계: \"다른 팀들이 홀란드를 데려가기 힘든 이유도 설명했다. \"중요한 건 홀란드 몸값을 감당할 여력이 있는 팀이 어디냐는 것이다. 레알 마드리드와 바르셀로나는 저 정도의 돈을 지불할 능력이 안 된다는 소리가 들린다\"며 \"맨시티는 돈은 있지만, 천문학적인 지출을 하고 싶어 하지 않는다. 무엇보다 홀란드는 펩 과르디올라 맨시티 감독이 선호하는 유형의 선수가 아니다. 과르디올라 감독은 홀란드같은 공격수를 잘 기용하지 않는다. 올 시즌 맨시티는 세르히오 아게로나 가브리엘 제주스를 잘 쓰지 않았다. 과르디올라가 홀란드를 어떻게 기용할지 모르겠다\"고 말했다.\" 이 부분을 참조하여 맨유가 선수를 영입하는데 있어서 경제적인 문제 외에도 감독의 선수 선호도가 중요한 요소임을 확인합니다.\\n\\n3단계: \"이어 스콜스는 맨유 외에 첼시를 홀란드 영입에 근접한 팀으로 언급했다. 현재 이적 시장에서 이 두 팀을 제외하면 2300억 원을 부담하면서 홀란드를 품을 팀이 없다는 것이다.\" 이 부분을 참조하여 맨유가 선수를 영입하는데 있어서 경쟁 팀들과의 경쟁도 중요한 요소임을 확인합니다. 이 세 가지 요소를 종합하면, 맨유가 선수를 영입하는데 있어서 경제적인 여력, 감독의 선수 선호도, 그리고 경쟁 팀들과의 경쟁이 중요한 요소임을 알 수 있습니다. 이 세 가지 요소가 맨유가 선수를 영입하는데 어려움을 겪는 이유일 수 있습니다.']\n",
      "{'Question': '요즘 맨유가 아무리 돈을 써도 안되는 이유', 'Confidence': 'yes', 'Strategy': ['1단계: \"맨유의 전설, 폴 스콜스는 이중 홀란드가 갈만한 팀으로 딱 두 곳을 집는다. 8일(한국 시간) 영국 방송 \\'BT 스포츠\\'에 나온 스콜스는 \"맨유가 홀란드를 영입할 수 있을까?\"란 질문을 받자 \"충분히 가능하다고 본다. 그 돈을 내서 홀란드를 데려올 수 있다면, 그렇게 하지 않을 이유가 없다\"며 고개를 끄덕였다.\" 이 부분을 참조하여 맨유가 충분한 자금을 가지고 있음을 확인합니다.\\n\\n2단계: \"다른 팀들이 홀란드를 데려가기 힘든 이유도 설명했다. \"중요한 건 홀란드 몸값을 감당할 여력이 있는 팀이 어디냐는 것이다. 레알 마드리드와 바르셀로나는 저 정도의 돈을 지불할 능력이 안 된다는 소리가 들린다\"며 \"맨시티는 돈은 있지만, 천문학적인 지출을 하고 싶어 하지 않는다. 무엇보다 홀란드는 펩 과르디올라 맨시티 감독이 선호하는 유형의 선수가 아니다. 과르디올라 감독은 홀란드같은 공격수를 잘 기용하지 않는다. 올 시즌 맨시티는 세르히오 아게로나 가브리엘 제주스를 잘 쓰지 않았다. 과르디올라가 홀란드를 어떻게 기용할지 모르겠다\"고 말했다.\" 이 부분을 참조하여 맨유가 선수를 영입하는데 있어서 경제적인 문제 외에도 감독의 선수 선호도가 중요한 요소임을 확인합니다.\\n\\n3단계: \"이어 스콜스는 맨유 외에 첼시를 홀란드 영입에 근접한 팀으로 언급했다. 현재 이적 시장에서 이 두 팀을 제외하면 2300억 원을 부담하면서 홀란드를 품을 팀이 없다는 것이다.\" 이 부분을 참조하여 맨유가 선수를 영입하는데 있어서 경쟁 팀들과의 경쟁도 중요한 요소임을 확인합니다. 이 세 가지 요소를 종합하면, 맨유가 선수를 영입하는데 있어서 경제적인 여력, 감독의 선수 선호도, 그리고 경쟁 팀들과의 경쟁이 중요한 요소임을 알 수 있습니다. 이 세 가지 요소가 맨유가 선수를 영입하는데 어려움을 겪는 이유일 수 있습니다.'], 'Reference': [{'title': '홀란드 몸값 2300억 원…스콜스 \"맨유가 데려올 수 있다\"', 'url': 'https://sports.news.naver.com/news?oid=477&aid=0000293829', 'contents': '\\n▲ 엘링 홀란드.[스포티비뉴스=맹봉주 기자] 아무리 비싸도 영입하려는 팀들은 있다. 이번 여름 이적 시장의 주인공은 엘링 홀란드(21)다. 이적 시장 소문의 대부분이 홀란드와 관련되어 있다. 보루시아 도르트문트는 이미 홀란드를 내놓았다. 책정한 몸값은 1억 5000만 파운드(약 2300억 원). 축구 이적료로는 네이마르가 바르셀로나에서 PSG(파리생제르맹)로 갈 때 기록한 2960억 원 다음으로 높은 금액이다.홀란드의 아버지와 에이전트 미노 라이올라는 진작에 협상 테이블을 차렸다. 바르셀로나, 레알 마드리드, 맨체스터 유나이티드, 맨체스터 시티, 바이에른 뮌헨, 첼시, 유벤투스 등 거론되는 팀들은 한둘이 아니다.맨유의 전설, 폴 스콜스는 이중 홀란드가 갈만한 팀으로 딱 두 곳을 집는다. 8일(한국 시간) 영국 방송 \\'BT 스포츠\\'에 나온 스콜스는 \"맨유가 홀란드를 영입할 수 있을까?\"란 질문을 받자 \"충분히 가능하다고 본다. 그 돈을 내서 홀란드를 데려올 수 있다면, 그렇게 하지 않을 이유가 없다\"며 고개를 끄덕였다.다른 팀들이 홀란드를 데려가기 힘든 이유도 설명했다. \"중요한 건 홀란드 몸값을 감당할 여력이 있는 팀이 어디냐는 것이다. 레알 마드리드와 바르셀로나는 저 정도의 돈을 지불할 능력이 안 된다는 소리가 들린다\"며 \"맨시티는 돈은 있지만, 천문학적인 지출을 하고 싶어 하지 않는다. 무엇보다 홀란드는 펩 과르디올라 맨시티 감독이 선호하는 유형의 선수가 아니다. 과르디올라 감독은 홀란드같은 공격수를 잘 기용하지 않는다. 올 시즌 맨시티는 세르히오 아게로나 가브리엘 제주스를 잘 쓰지 않았다. 과르디올라가 홀란드를 어떻게 기용할지 모르겠다\"고 말했다.이어 스콜스는 맨유 외에 첼시를 홀란드 영입에 근접한 팀으로 언급했다. 현재 이적 시장에서 이 두 팀을 제외하면 2300억 원을 부담하면서 홀란드를 품을 팀이 없다는 것이다.스콜스는 \"현재 홀란드 몸값을 감당할 팀은 딱 두 개인데, 이게 바로 맨유와 첼시\"라고 자신의 생각을 밝혔다.스포티비뉴스=맹봉주 기자제보> mbj@spotvnews.co.kr[영상]\\'이제는 음바페의 시대\\'[댓글] 손흥민... 다음시즌 거취는?<저작권자 ⓒ SPOTV NEWS 무단전재 및 재배포 금지>\\n\\t\\t\\t\\t\\t\\t\\n\\t\\t\\t\\t\\t\\t\\n\\t\\t\\t\\t\\t\\t\\n\\t\\t\\t\\t\\t\\t\\n\\t\\t\\t\\t\\t\\t'}], 'Answer': '맨체스터 유나이티드(맨유)가 많은 돈을 쓰더라도 성과를 내지 못하는 이유는 여러 가지입니다. \\n\\n첫째, 맨유는 충분한 자금을 가지고 있지만, 선수를 영입하는데 있어서 경제적인 여력만이 중요한 것은 아닙니다. 감독의 선수 선호도도 중요한 요소입니다. 예를 들어, 펩 과르디올라 맨시티 감독은 홀란드같은 공격수를 잘 기용하지 않는다는 사례가 있습니다. 이처럼 감독의 선수 선호도가 맞지 않으면, 많은 돈을 들여 선수를 영입하더라도 성과를 내기 어렵습니다.\\n\\n둘째, 선수를 영입하는데 있어서 경쟁 팀들과의 경쟁도 중요한 요소입니다. 맨유가 원하는 선수를 영입하려면 다른 팀들과의 경쟁에서 이겨야 합니다. 그러나 이는 쉽지 않은 일입니다. 예를 들어, 홀란드를 영입하려는 팀 중에는 첼시도 있습니다. 이처럼 경쟁 팀들과의 경쟁에서 밀리면, 많은 돈을 써도 원하는 선수를 영입하기 어렵습니다.\\n\\n이러한 이유들로 인해 맨유는 많은 돈을 쓰더라도 원하는 성과를 내기 어렵습니다.'}\n"
     ]
    },
    {
     "data": {
      "text/plain": [
       "'맨체스터 유나이티드(맨유)가 많은 돈을 쓰더라도 성과를 내지 못하는 이유는 여러 가지입니다. \\n\\n첫째, 맨유는 충분한 자금을 가지고 있지만, 선수를 영입하는데 있어서 경제적인 여력만이 중요한 것은 아닙니다. 감독의 선수 선호도도 중요한 요소입니다. 예를 들어, 펩 과르디올라 맨시티 감독은 홀란드같은 공격수를 잘 기용하지 않는다는 사례가 있습니다. 이처럼 감독의 선수 선호도가 맞지 않으면, 많은 돈을 들여 선수를 영입하더라도 성과를 내기 어렵습니다.\\n\\n둘째, 선수를 영입하는데 있어서 경쟁 팀들과의 경쟁도 중요한 요소입니다. 맨유가 원하는 선수를 영입하려면 다른 팀들과의 경쟁에서 이겨야 합니다. 그러나 이는 쉽지 않은 일입니다. 예를 들어, 홀란드를 영입하려는 팀 중에는 첼시도 있습니다. 이처럼 경쟁 팀들과의 경쟁에서 밀리면, 많은 돈을 써도 원하는 선수를 영입하기 어렵습니다.\\n\\n이러한 이유들로 인해 맨유는 많은 돈을 쓰더라도 원하는 성과를 내기 어렵습니다.'"
      ]
     },
     "execution_count": 5,
     "metadata": {},
     "output_type": "execute_result"
    }
   ],
   "source": [
    "args['query'] = '요즘 맨유가 아무리 돈을 써도 안되는 이유'\n",
    "\n",
    "main(args, verbose_document = True, verbose_strategy = True)"
   ]
  },
  {
   "cell_type": "code",
   "execution_count": null,
   "metadata": {},
   "outputs": [],
   "source": []
  }
 ],
 "metadata": {
  "kernelspec": {
   "display_name": "base",
   "language": "python",
   "name": "python3"
  },
  "language_info": {
   "codemirror_mode": {
    "name": "ipython",
    "version": 3
   },
   "file_extension": ".py",
   "mimetype": "text/x-python",
   "name": "python",
   "nbconvert_exporter": "python",
   "pygments_lexer": "ipython3",
   "version": "3.8.12"
  }
 },
 "nbformat": 4,
 "nbformat_minor": 2
}
