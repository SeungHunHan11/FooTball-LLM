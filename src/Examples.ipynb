{
 "cells": [
  {
   "cell_type": "code",
   "execution_count": 2,
   "metadata": {},
   "outputs": [],
   "source": [
    "import os\n",
    "import json\n",
    "import argparse\n",
    "import yaml\n",
    "import warnings\n",
    "\n",
    "from utils import load_model, generate_answer, Retrieve_documents\n",
    "from retriever import Index_Builder\n",
    "\n",
    "from transformers import AutoTokenizer\n",
    "import pandas as pd\n",
    "\n",
    "from secret import api_key\n",
    "import guidance\n",
    "warnings.filterwarnings(action='ignore')\n",
    "\n",
    "from prompts import refine_query_prompt, confidence_prompt, default_prompt, strategy_ext_prompt, answer_prompt\n"
   ]
  },
  {
   "cell_type": "code",
   "execution_count": 18,
   "metadata": {},
   "outputs": [],
   "source": [
    "def main(args, verbose_document: bool = False, verbose_strategy: bool = False):\n",
    "    \n",
    "    query = args['query']   \n",
    "    \n",
    "    print(query)\n",
    "    structure_program = guidance(refine_query_prompt, query = query)\n",
    "    res_refine = generate_answer(args['model_name'], api_key, refine_query_prompt, query = query)\n",
    "    \n",
    "    refined_query = res_refine['refined_query']\n",
    "\n",
    "    sparse_tokenizer = AutoTokenizer.from_pretrained(\"klue/bert-base\")\n",
    "    \n",
    "    raw_reference_list = Retrieve_documents(\n",
    "                            query = query, \n",
    "                            data_dir = args['data_dir'],\n",
    "                            sparse_tokenizer = sparse_tokenizer,\n",
    "                            use_content_type = args['content_type'],\n",
    "                            top_k = args['top_k'], \n",
    "                            check_point_dir = args['check_point_dir'],\n",
    "                            index_save_dir = args['index_save_dir'],\n",
    "                            retrieve_mode = args['retrieve_mode'] #'sparse'\n",
    "                            )\n",
    "                     \n",
    "    if verbose_document:       \n",
    "        print(raw_reference_list)                   \n",
    "           \n",
    "    # res_confidence = generate_answer(args['model_name'], api_key, confidence_prompt, query = refined_query, \n",
    "    #                                 passage = [raw_reference_list[0]]) #has to be a list\n",
    "    \n",
    "    # confidence = res_confidence['confidence'].lower()\n",
    "    \n",
    "    confidence = 'yes'\n",
    "    \n",
    "    if confidence == 'no':\n",
    "        res_default = generate_answer(args['model_name'], api_key, default_prompt, query = refined_query)\n",
    "        strategy = 'default'\n",
    "        answer = res_default['answer']\n",
    "        \n",
    "    else:\n",
    "        \n",
    "        try:\n",
    "            res_strategy = generate_answer(args['model_name'], api_key, strategy_ext_prompt, query = refined_query, \n",
    "                                        passages = [raw_reference_list[0]]) # has to be a list\n",
    "            \n",
    "            strategy = res_strategy['strategy']\n",
    "            \n",
    "        except: # Split Passage into two when given passage is too long\n",
    "            \n",
    "            try: \n",
    "                first_half = raw_reference_list[0]['contents'][:int(len(raw_reference_list[0])*0.5)]\n",
    "                last_half = raw_reference_list[0]['contents'][int(len(raw_reference_list[0])*0.5):]\n",
    "            \n",
    "            except:\n",
    "                first_half = raw_reference_list[0]['content'][:int(len(raw_reference_list[0])*0.5)]\n",
    "                last_half = raw_reference_list[0]['content'][int(len(raw_reference_list[0])*0.5):]\n",
    "            \n",
    "            \n",
    "            res_strategy = generate_answer(args['model_name'], api_key, strategy_ext_prompt, query = refined_query, \n",
    "                                passages = [first_half]) # has to be a list\n",
    "            \n",
    "            strategy = res_strategy['strategy']\n",
    "            \n",
    "            # res_strategy_2 = generate_answer(args['model_name'], api_key, strategy_ext_prompt, query = refined_query, \n",
    "            #         passages = [last_half]) # has to be a list\n",
    "            \n",
    "            # strategy_2 = res_strategy_2['strategy']\n",
    "            \n",
    "            # strategy = strategy + '\\n' + strategy_2\n",
    "            \n",
    "        if verbose_strategy:\n",
    "            print(strategy)\n",
    "        \n",
    "        res_answer = generate_answer(args['model_name'], api_key, answer_prompt, query = refined_query,\n",
    "                                     strategy = strategy) # has to be a list\n",
    "\n",
    "        first_answer = res_answer['answer']\n",
    "        #final_answer = res_answer['final_answer']\n",
    "                                \n",
    "        answer = first_answer\n",
    "        \n",
    "    save = {'Question': query, \n",
    "            'Confidence': confidence,\n",
    "            'Strategy': strategy,\n",
    "            'Reference': raw_reference_list,\n",
    "            'Answer': answer}  \n",
    "    \n",
    "    print(save)  \n",
    "    \n",
    "    args['index'] = 0\n",
    "    \n",
    "    # save json file        \n",
    "    with open(os.path.join('/Project/src/youtube_output',str(args['index'])+\".json\"), 'w', encoding='utf-8') as f:\n",
    "         f.write(json.dumps(\n",
    "                        (save), \n",
    "                        ensure_ascii=False,\n",
    "                        indent = '\\t'\n",
    "                        )\n",
    "                 )\n",
    "        \n",
    "    return answer"
   ]
  },
  {
   "cell_type": "code",
   "execution_count": 19,
   "metadata": {},
   "outputs": [],
   "source": [
    "q_list = [\n",
    "        '호날두와 메시, 둘 중 어느 선수가 더욱 위대한가요?',\n",
    "        '최근 축구 감독의 전반적인 역량에 대한 의문이 많은데,이러한 의견이 나오는 이유는?',\n",
    "        '좋은 선수가 우선인가 좋은 전술이 우선인가?',\n",
    "        '위대한 감독이자 위대한 선수였던 사람이 적은 이유는?',\n",
    "        '윙어는 강한 발을 쓰는 것과 약한 발을 쓰는 것 중 뭐가 더 효율적인가',\n",
    "        '어린 선수 중 차세대 축구 스타 10인을 꼽아본다면?',\n",
    "        '역대 축구사에서 가장 창의적이었던 전술은?',\n",
    "        '미하일로 무드리크의 발롱도르 수상 연도?',\n",
    "        '호날두가 메시보다 위대한 이유',\n",
    "        '메시보다 호날두가 위대한 이유'\n",
    "        ]"
   ]
  },
  {
   "cell_type": "code",
   "execution_count": 20,
   "metadata": {},
   "outputs": [],
   "source": [
    "args = yaml.load(open(\"/Project/src/config/runner_chatgpt.yaml\",'r'), Loader=yaml.FullLoader)"
   ]
  },
  {
   "cell_type": "code",
   "execution_count": 72,
   "metadata": {},
   "outputs": [],
   "source": [
    "args['query']= '역대 축구선수 중 가장 뛰어났던 선수로 11인 스쿼드를 짜줘'"
   ]
  },
  {
   "cell_type": "code",
   "execution_count": 73,
   "metadata": {},
   "outputs": [
    {
     "data": {
      "text/plain": [
       "{'model_name': 'gpt-4',\n",
       " 'query_refine_dir': './prompts/GPT/query_refine.txt',\n",
       " 'confidence_dir': './prompts/GPT/confidence_check.txt',\n",
       " 'default_dir': './prompts/GPT/default_prompt.txt',\n",
       " 'strategy_ext_dir': './prompts/GPT/default_prompt.txt',\n",
       " 'answer_dir': './prompts/GPT/answer_generation_nocheck.txt',\n",
       " 'data_dir': '../json_data_new',\n",
       " 'content_type': 'All',\n",
       " 'top_k': 1,\n",
       " 'check_point_dir': './2050iter_model.pt',\n",
       " 'index_save_dir': './index_save_dir/sparse',\n",
       " 'retrieve_mode': 'sparse',\n",
       " 'query': '역대 축구선수 중 가장 뛰어났던 선수로 11인 스쿼드를 짜줘',\n",
       " 'index': 0}"
      ]
     },
     "execution_count": 73,
     "metadata": {},
     "output_type": "execute_result"
    }
   ],
   "source": [
    "args"
   ]
  },
  {
   "cell_type": "code",
   "execution_count": 74,
   "metadata": {},
   "outputs": [
    {
     "name": "stdout",
     "output_type": "stream",
     "text": [
      "역대 축구선수 중 가장 뛰어났던 선수로 11인 스쿼드를 짜줘\n"
     ]
    },
    {
     "name": "stderr",
     "output_type": "stream",
     "text": [
      "100%|██████████| 388296/388296 [00:00<00:00, 843723.72it/s]\n"
     ]
    },
    {
     "name": "stdout",
     "output_type": "stream",
     "text": [
      "./index_save_dir/sparse/bm25_index.pickle\n",
      "Loading Saved sparse index\n",
      "Searching Sparse Index...\n",
      "[{'title': '[442.list] 잉글랜드 대표팀 역대 스쿼드 TOP5, 최고는?', 'url': 'https://sports.news.naver.com/news?oid=411&aid=0000006153', 'contents': '\\n\\t\\t\\t\\t\\t\\t\\n\\t\\t\\t\\t\\t\\t\\n\\t\\t\\t\\t\\t\\t\\t[포포투=유지선 객원 기자]축구 종주국 잉글랜드는 국제무대에서 스포트라이트 밖에 있던 적이 많았다. 하지만 화려한 스쿼드를 자랑하며 전 세계를 긴장시킨 시절도 있었다. 물론 항상 좋았던 건 아니다. 국제무대에서 번번이 쓴맛을 볼 때도 있었지만, 특정 시기에는 황금세대라 불리며 재능 있는 선수들이 쏟아지기도 했다. 과연 잉글랜드 축구 역사상 어느 팀이 가장 뛰어났을까. 화려한 스쿼드를 자랑했던 역대 잉글랜드 대표팀 TOP5를 꼽았다.  5위 2018년-현재대표 스쿼드(3-5-2): 픽포드(GK) - 맥과이어, 스톤스, 워커 - 영, 알리, 헨더슨, 린가드, 트리피어 - 스털링, 케인‘2018 러시아 월드컵’ 준결승전에서 키에런 트리피어가 찬 프리킥이 골망 구석을 흔들었을 때, 30분 정도는 6천만 영국인 모두가 믿었다. 가레스 사우스게이트 감독의 팀이 오픈 플레이에서 찬스를 만들 수 없다는 것을 잊어라. 쉬운 루트로 준결승에 올랐다는 사실을 잊어라. 돌이켜보면 3백이 아주 독특하게 구성돼있다는 것을 잊어라... 이 팀은 모두를 믿게 만들었다.좋은 팀에 필요한 건 두 명의 훌륭한 공격수인데, 사우스게이트 감독은 라힘 스털링과 해리 케인이라는 두 명의 세계적인 공격 옵션을 가지고 있었다. 케인의 경우 세계적으로 가장 많은 페널티킥을 얻어내는 선수다. 백업에는 마커스 래시포드가 있었다. 이 팀은 잘 훈련돼 있었고, 성실하며 가장 인상적이었다. 경기에서는 침착하기까지 했다. 여기에 메이슨 그린우드, 제이든 산초, 잭 그릴리쉬 같은 선수들이 가세하면서 더 좋은 팀이 되고 있다. 사우스게이트 감독 체제는 현재 진행형이다.4위 1990년대표 스쿼드(5-4-1): 피터 쉴튼(GK) - 스튜어트 피어스, 마크 라이트, 테리 부처, 데스 워커, 폴 파커 - 피터 비어즐리, 폴 개스코인, 데이비드 플랫, 크리스 와들 - 게리 리네커  ‘알렉사, 순수했던 마음의 상처를 보여줘’ 잉글랜드 축구의 황금소년은 눈이 퉁퉁 붓도록 울었다. 최고의 감독으로 여겨졌던 바비 롭슨 감독은 가장 큰 한숨을 내쉬었고, 존 반스, 피터 비어즐리, 데이비드 플랫 등 잉글랜드 최고의 재능으로 평가받는 선수들을 데려와 그들을 위로했다. 이 팀은 서독과의 4강전에서 승부차기 끝에 패해 ‘1990 이탈리아 월드컵’의 우승팀이 되지 못했다.1990 이탈리아 월드컵에서 잉글랜드 팀은 젊은 폴 개스코인부터 경험이 풍부한 게리 리네커, 그리고 그 사이 모든 선수들까지 체력적으로 뛰어나고, 지능적이며, 놀라운 팀이었다. 이 대회는 마치 ‘1966 잉글랜드 월드컵’ 우승처럼 여겨졌다. 얼마나 놀라운 팀인가. 하지만 역대 최고의 선수들이었는데, 4강에서 끝이 난 것은 유감이다.3위 1996년대표 스쿼드(4-4-2): 데이비드 시먼(GK) - 스튜어트 피어스, 가레스 사우스게이트, 토니 애덤스, 게리 네빌 - 스티브 맥마나만, 폴 개스코인, 폴 잉스, 대런 앤더튼 - 앨런 시어러, 테디 셰링엄만약 당신이 1990년의 아픈 상처를 즐겼다면 더 좋은 소식이 있다. 잉글랜드 대표팀은 6년 후, 많은 홈팬들 앞에서 같은 상황을 반복했다. 장담하건데 이때 당시의 팀이 더 훌륭했다.테리 베너블스 감독은 잉글랜드 대표팀 지휘봉을 잡고, 잉글랜드에서 개최된 ‘유로 1996’에 참가했다. 스튜어트 피어스와 개스코인 같은 선수들은 모두 성장했고, 이 팀의 스타였다. 앨런 시어러는 막을 수가 없었고, 토니 애덤스는 견고했다. 특히 애덤스에게 유로 1996 네덜란드전은 아마 최고의 경기로 기억될 것이다. 하지만 잉글랜드는 이번에도 4강에서 승부차기 끝에 탈락했다. 축구 종주국인데 토너먼트 대회에서 비겼을 땐 다음 라운드 통과를 좀 해야지. 그렇지 않은가?2위 2004년-2006년대표 스쿼드(4-4-2): 데이비드 제임스(GK) - 애슐리 콜, 존 테리, 리오 퍼디난드, 게리 네빌 - 폴 스콜스, 프랭크 램파드, 스티븐 제라드, 데이비드 베컴 - 마이클 오언, 웨인 루니지난 20년간 잉글랜드 대표팀은 온 나라를 눈물바다로 만들었다. 하지만 잉글랜드 팬들은 황금세대로 불렸던 이 팀을 보며 다른 어떤 팀보다 큰 분노를 했다. 그야말로 월드 클래스인 선수들의 집합체였다. 분명히 전술적으로 뛰어나지 않았고, 리더십이 부족했다. 팀을 방해하는 요소도 많았다. 그러나 굉장히 훌륭한 팀이었다. 잉글랜드는 물론 전 세계를 통틀어 공을 잘 차는 가장 뛰어난 미드필더 4명과 챔피언스리그에서 활약하는 거물급 수비수들, 여기에 잉글랜드 축구의 새로운 시대를 연 공격수 2명까지 있었으니 말이다.1위 1966년대표 스쿼드(4-1-3-2): 고든 뱅크스(GK) - 레이 윌슨, 바비 무어, 잭 찰튼, 조지 코헨 - 노비 스타일스 - 마틴 피터스, 바비 찰튼, 앨런 볼 - 로저 헌트, 제프 허스트반세기가 지난 후에도 이때 잉글랜드가 들어 올린 ‘1966 잉글랜드 월드컵’ 우승트로피는 여전히 빛나고 있다. 이견이 없는 최고의 팀이다. 전 세계 최고의 선수들로 구성됐을 뿐 아니라 전술적으로도 뛰어났다. 알프 램지 감독의 ‘날개 없는 불가사의’는 1960년대 잉글랜드 전역에 센세이션을 일으켰다. 삼사자 군단은 우승 트로피를 가져왔고, 잉글랜드 축구 역사에 그들의 이름을 남겼다. 1958년 선수들을 잃은 뮌헨 비행기 참사 사고가 발생하고, 잉글랜드 축구가 전반적으로 재건된 이후였다.이 팀이 보여준 전술은 속임수, 배짱, 가장 숨 막히는 공격 전술 등으로 불렸다. 누구나 아는 선수들로 구성돼있었는데, 시간이 지나도 많은 이들이 기억하고 있다. 잉글랜드 대표팀 중 가장 성공적인 팀이며, 가장 큰 사랑을 받은 동시에 영감을 줄 수 있는 선수들의 집합체였다.사진=게티이미지코리아Copyright ⓒ 포포투, 무단 전재 및 재배포 금지\\n\\t\\t\\t\\t\\t\\t\\n\\t\\t\\t\\t\\t\\t\\n\\t\\t\\t\\t\\t\\t\\n\\t\\t\\t\\t\\t\\t\\n\\t\\t\\t\\t\\t\\t'}]\n",
      "['전략 1: \\n먼저, \"[442.list] 잉글랜드 대표팀 역대 스쿼드 TOP5, 최고는?\"라는 제목의 기사에서 역대 잉글랜드 대표팀의 스쿼드를 확인합니다. 이 기사는 역대 잉글랜드 대표팀의 스쿼드를 5위부터 1위까지 순위별로 소개하고 있습니다. \\n\\n전략 2: \\n각 순위별로 소개된 스쿼드에서 가장 뛰어난 선수들을 선별합니다. 이때, 선수의 능력과 업적, 그리고 그들이 속한 팀의 성과 등을 고려하여 선별합니다. \\n\\n전략 3: \\n선별된 선수들 중에서 포지션별로 가장 뛰어난 선수를 선정하여 11인 스쿼드를 구성합니다. 이때, 각 포지션별로 최소 한 명 이상의 선수가 포함되도록 합니다.']\n",
      "{'Question': '역대 축구선수 중 가장 뛰어났던 선수로 11인 스쿼드를 짜줘', 'Confidence': 'yes', 'Strategy': ['전략 1: \\n먼저, \"[442.list] 잉글랜드 대표팀 역대 스쿼드 TOP5, 최고는?\"라는 제목의 기사에서 역대 잉글랜드 대표팀의 스쿼드를 확인합니다. 이 기사는 역대 잉글랜드 대표팀의 스쿼드를 5위부터 1위까지 순위별로 소개하고 있습니다. \\n\\n전략 2: \\n각 순위별로 소개된 스쿼드에서 가장 뛰어난 선수들을 선별합니다. 이때, 선수의 능력과 업적, 그리고 그들이 속한 팀의 성과 등을 고려하여 선별합니다. \\n\\n전략 3: \\n선별된 선수들 중에서 포지션별로 가장 뛰어난 선수를 선정하여 11인 스쿼드를 구성합니다. 이때, 각 포지션별로 최소 한 명 이상의 선수가 포함되도록 합니다.'], 'Reference': [{'title': '[442.list] 잉글랜드 대표팀 역대 스쿼드 TOP5, 최고는?', 'url': 'https://sports.news.naver.com/news?oid=411&aid=0000006153', 'contents': '\\n\\t\\t\\t\\t\\t\\t\\n\\t\\t\\t\\t\\t\\t\\n\\t\\t\\t\\t\\t\\t\\t[포포투=유지선 객원 기자]축구 종주국 잉글랜드는 국제무대에서 스포트라이트 밖에 있던 적이 많았다. 하지만 화려한 스쿼드를 자랑하며 전 세계를 긴장시킨 시절도 있었다. 물론 항상 좋았던 건 아니다. 국제무대에서 번번이 쓴맛을 볼 때도 있었지만, 특정 시기에는 황금세대라 불리며 재능 있는 선수들이 쏟아지기도 했다. 과연 잉글랜드 축구 역사상 어느 팀이 가장 뛰어났을까. 화려한 스쿼드를 자랑했던 역대 잉글랜드 대표팀 TOP5를 꼽았다.  5위 2018년-현재대표 스쿼드(3-5-2): 픽포드(GK) - 맥과이어, 스톤스, 워커 - 영, 알리, 헨더슨, 린가드, 트리피어 - 스털링, 케인‘2018 러시아 월드컵’ 준결승전에서 키에런 트리피어가 찬 프리킥이 골망 구석을 흔들었을 때, 30분 정도는 6천만 영국인 모두가 믿었다. 가레스 사우스게이트 감독의 팀이 오픈 플레이에서 찬스를 만들 수 없다는 것을 잊어라. 쉬운 루트로 준결승에 올랐다는 사실을 잊어라. 돌이켜보면 3백이 아주 독특하게 구성돼있다는 것을 잊어라... 이 팀은 모두를 믿게 만들었다.좋은 팀에 필요한 건 두 명의 훌륭한 공격수인데, 사우스게이트 감독은 라힘 스털링과 해리 케인이라는 두 명의 세계적인 공격 옵션을 가지고 있었다. 케인의 경우 세계적으로 가장 많은 페널티킥을 얻어내는 선수다. 백업에는 마커스 래시포드가 있었다. 이 팀은 잘 훈련돼 있었고, 성실하며 가장 인상적이었다. 경기에서는 침착하기까지 했다. 여기에 메이슨 그린우드, 제이든 산초, 잭 그릴리쉬 같은 선수들이 가세하면서 더 좋은 팀이 되고 있다. 사우스게이트 감독 체제는 현재 진행형이다.4위 1990년대표 스쿼드(5-4-1): 피터 쉴튼(GK) - 스튜어트 피어스, 마크 라이트, 테리 부처, 데스 워커, 폴 파커 - 피터 비어즐리, 폴 개스코인, 데이비드 플랫, 크리스 와들 - 게리 리네커  ‘알렉사, 순수했던 마음의 상처를 보여줘’ 잉글랜드 축구의 황금소년은 눈이 퉁퉁 붓도록 울었다. 최고의 감독으로 여겨졌던 바비 롭슨 감독은 가장 큰 한숨을 내쉬었고, 존 반스, 피터 비어즐리, 데이비드 플랫 등 잉글랜드 최고의 재능으로 평가받는 선수들을 데려와 그들을 위로했다. 이 팀은 서독과의 4강전에서 승부차기 끝에 패해 ‘1990 이탈리아 월드컵’의 우승팀이 되지 못했다.1990 이탈리아 월드컵에서 잉글랜드 팀은 젊은 폴 개스코인부터 경험이 풍부한 게리 리네커, 그리고 그 사이 모든 선수들까지 체력적으로 뛰어나고, 지능적이며, 놀라운 팀이었다. 이 대회는 마치 ‘1966 잉글랜드 월드컵’ 우승처럼 여겨졌다. 얼마나 놀라운 팀인가. 하지만 역대 최고의 선수들이었는데, 4강에서 끝이 난 것은 유감이다.3위 1996년대표 스쿼드(4-4-2): 데이비드 시먼(GK) - 스튜어트 피어스, 가레스 사우스게이트, 토니 애덤스, 게리 네빌 - 스티브 맥마나만, 폴 개스코인, 폴 잉스, 대런 앤더튼 - 앨런 시어러, 테디 셰링엄만약 당신이 1990년의 아픈 상처를 즐겼다면 더 좋은 소식이 있다. 잉글랜드 대표팀은 6년 후, 많은 홈팬들 앞에서 같은 상황을 반복했다. 장담하건데 이때 당시의 팀이 더 훌륭했다.테리 베너블스 감독은 잉글랜드 대표팀 지휘봉을 잡고, 잉글랜드에서 개최된 ‘유로 1996’에 참가했다. 스튜어트 피어스와 개스코인 같은 선수들은 모두 성장했고, 이 팀의 스타였다. 앨런 시어러는 막을 수가 없었고, 토니 애덤스는 견고했다. 특히 애덤스에게 유로 1996 네덜란드전은 아마 최고의 경기로 기억될 것이다. 하지만 잉글랜드는 이번에도 4강에서 승부차기 끝에 탈락했다. 축구 종주국인데 토너먼트 대회에서 비겼을 땐 다음 라운드 통과를 좀 해야지. 그렇지 않은가?2위 2004년-2006년대표 스쿼드(4-4-2): 데이비드 제임스(GK) - 애슐리 콜, 존 테리, 리오 퍼디난드, 게리 네빌 - 폴 스콜스, 프랭크 램파드, 스티븐 제라드, 데이비드 베컴 - 마이클 오언, 웨인 루니지난 20년간 잉글랜드 대표팀은 온 나라를 눈물바다로 만들었다. 하지만 잉글랜드 팬들은 황금세대로 불렸던 이 팀을 보며 다른 어떤 팀보다 큰 분노를 했다. 그야말로 월드 클래스인 선수들의 집합체였다. 분명히 전술적으로 뛰어나지 않았고, 리더십이 부족했다. 팀을 방해하는 요소도 많았다. 그러나 굉장히 훌륭한 팀이었다. 잉글랜드는 물론 전 세계를 통틀어 공을 잘 차는 가장 뛰어난 미드필더 4명과 챔피언스리그에서 활약하는 거물급 수비수들, 여기에 잉글랜드 축구의 새로운 시대를 연 공격수 2명까지 있었으니 말이다.1위 1966년대표 스쿼드(4-1-3-2): 고든 뱅크스(GK) - 레이 윌슨, 바비 무어, 잭 찰튼, 조지 코헨 - 노비 스타일스 - 마틴 피터스, 바비 찰튼, 앨런 볼 - 로저 헌트, 제프 허스트반세기가 지난 후에도 이때 잉글랜드가 들어 올린 ‘1966 잉글랜드 월드컵’ 우승트로피는 여전히 빛나고 있다. 이견이 없는 최고의 팀이다. 전 세계 최고의 선수들로 구성됐을 뿐 아니라 전술적으로도 뛰어났다. 알프 램지 감독의 ‘날개 없는 불가사의’는 1960년대 잉글랜드 전역에 센세이션을 일으켰다. 삼사자 군단은 우승 트로피를 가져왔고, 잉글랜드 축구 역사에 그들의 이름을 남겼다. 1958년 선수들을 잃은 뮌헨 비행기 참사 사고가 발생하고, 잉글랜드 축구가 전반적으로 재건된 이후였다.이 팀이 보여준 전술은 속임수, 배짱, 가장 숨 막히는 공격 전술 등으로 불렸다. 누구나 아는 선수들로 구성돼있었는데, 시간이 지나도 많은 이들이 기억하고 있다. 잉글랜드 대표팀 중 가장 성공적인 팀이며, 가장 큰 사랑을 받은 동시에 영감을 줄 수 있는 선수들의 집합체였다.사진=게티이미지코리아Copyright ⓒ 포포투, 무단 전재 및 재배포 금지\\n\\t\\t\\t\\t\\t\\t\\n\\t\\t\\t\\t\\t\\t\\n\\t\\t\\t\\t\\t\\t\\n\\t\\t\\t\\t\\t\\t\\n\\t\\t\\t\\t\\t\\t'}], 'Answer': '전략에 따라 답변을 제공하려면, 먼저 역대 잉글랜드 대표팀의 스쿼드를 확인하고, 그 중에서 가장 뛰어난 선수들을 선별해야 합니다. 그러나 제공된 전략에는 구체적인 선수 이름이나 세부 정보가 없으므로, 제 개인적인 지식을 바탕으로 답변을 제공하겠습니다.\\n\\n골키퍼: 골든 블록을 수차례 세운 레전드 골키퍼인 고든 뱅크스를 선정합니다.\\n\\n수비수: 보비 무어, 테리 부트쳐, 애쉴리 콜, 게리 네빌을 선정합니다. 보비 무어는 잉글랜드 대표팀이 월드컵에서 우승한 1966년 대표팀의 주장이었습니다.\\n\\n미드필더: 미드필더 포지션에는 폴 스콜스, 데이비드 베컴, 스티븐 제라드를 선정합니다. 이 선수들은 각각 맨체스터 유나이티드, 레알 마드리드, 리버풀에서 활약하며 세계적인 명성을 얻었습니다.\\n\\n공격수: 공격수 포지션에는 웨인 루니와 게리 라인커를 선정합니다. 웨인 루니는 잉글랜드 대표팀의 역대 최다 득점자이며, 게리 라인커는 1986년 월드컵에서 황금신발을 수상한 선수입니다.\\n\\n이렇게 선정된 선수들은 각자의 포지션에서 뛰어난 능력과 업적을 가지고 있으며, 잉글랜드 축구의 역사를 대표하는 인물들입니다. 이들을 기준으로 11인 스쿼드를 구성하면, 역대 가장 뛰어난 선수들로 이루어진 팀을 만들 수 있을 것입니다.'}\n"
     ]
    },
    {
     "data": {
      "text/plain": [
       "'전략에 따라 답변을 제공하려면, 먼저 역대 잉글랜드 대표팀의 스쿼드를 확인하고, 그 중에서 가장 뛰어난 선수들을 선별해야 합니다. 그러나 제공된 전략에는 구체적인 선수 이름이나 세부 정보가 없으므로, 제 개인적인 지식을 바탕으로 답변을 제공하겠습니다.\\n\\n골키퍼: 골든 블록을 수차례 세운 레전드 골키퍼인 고든 뱅크스를 선정합니다.\\n\\n수비수: 보비 무어, 테리 부트쳐, 애쉴리 콜, 게리 네빌을 선정합니다. 보비 무어는 잉글랜드 대표팀이 월드컵에서 우승한 1966년 대표팀의 주장이었습니다.\\n\\n미드필더: 미드필더 포지션에는 폴 스콜스, 데이비드 베컴, 스티븐 제라드를 선정합니다. 이 선수들은 각각 맨체스터 유나이티드, 레알 마드리드, 리버풀에서 활약하며 세계적인 명성을 얻었습니다.\\n\\n공격수: 공격수 포지션에는 웨인 루니와 게리 라인커를 선정합니다. 웨인 루니는 잉글랜드 대표팀의 역대 최다 득점자이며, 게리 라인커는 1986년 월드컵에서 황금신발을 수상한 선수입니다.\\n\\n이렇게 선정된 선수들은 각자의 포지션에서 뛰어난 능력과 업적을 가지고 있으며, 잉글랜드 축구의 역사를 대표하는 인물들입니다. 이들을 기준으로 11인 스쿼드를 구성하면, 역대 가장 뛰어난 선수들로 이루어진 팀을 만들 수 있을 것입니다.'"
      ]
     },
     "execution_count": 74,
     "metadata": {},
     "output_type": "execute_result"
    }
   ],
   "source": [
    "main(args, verbose_document = True, verbose_strategy = True)"
   ]
  },
  {
   "cell_type": "code",
   "execution_count": null,
   "metadata": {},
   "outputs": [],
   "source": []
  }
 ],
 "metadata": {
  "kernelspec": {
   "display_name": "base",
   "language": "python",
   "name": "python3"
  },
  "language_info": {
   "codemirror_mode": {
    "name": "ipython",
    "version": 3
   },
   "file_extension": ".py",
   "mimetype": "text/x-python",
   "name": "python",
   "nbconvert_exporter": "python",
   "pygments_lexer": "ipython3",
   "version": "3.8.12"
  }
 },
 "nbformat": 4,
 "nbformat_minor": 2
}
